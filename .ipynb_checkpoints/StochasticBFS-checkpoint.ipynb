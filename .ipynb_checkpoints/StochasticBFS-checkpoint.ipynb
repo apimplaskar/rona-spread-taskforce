{
 "cells": [
  {
   "cell_type": "code",
   "execution_count": 187,
   "metadata": {},
   "outputs": [],
   "source": [
    "import networkx as nx\n",
    "import numpy as np\n",
    "import numpy.random as rand\n",
    "from collections import deque"
   ]
  },
  {
   "cell_type": "code",
   "execution_count": 303,
   "metadata": {},
   "outputs": [],
   "source": [
    "def generic_bfs_edges(G, source, neighbors=None, depth_limit=None, prob = 0.2):\n",
    "    visited = {source}\n",
    "    if depth_limit is None:\n",
    "        depth_limit = len(G)\n",
    "    queue = deque([(source, depth_limit, neighbors(source))])\n",
    "    while queue:\n",
    "        parent, depth_now, children = queue[0]\n",
    "        try:\n",
    "            child = next(children)\n",
    "            p = np.random.uniform(0,1)\n",
    "            if child not in visited and p < prob:\n",
    "                yield parent, child\n",
    "                visited.add(child)\n",
    "                if depth_now > 1:\n",
    "                    queue.append((child, depth_now - 1, neighbors(child)))\n",
    "        except StopIteration:\n",
    "            queue.popleft()\n",
    "\n",
    "\n",
    "# Modifying networkx source code to add probability of edge traversal \n",
    "def bfs_edges(G, source, reverse=False, depth_limit=None, prob=0.2):\n",
    "    \n",
    "    if reverse and G.is_directed():\n",
    "        for i in G.predecessors:\n",
    "            p = np.random.uniform(0,1)\n",
    "            if p < prob: \n",
    "                successors.append(i)\n",
    "    else:\n",
    "        successors = G.neighbors\n",
    "    # TODO In Python 3.3+, this should be `yield from ...`\n",
    "    for e in generic_bfs_edges(G, source, successors, depth_limit):\n",
    "        yield e"
   ]
  },
  {
   "cell_type": "code",
   "execution_count": 189,
   "metadata": {},
   "outputs": [],
   "source": [
    "def getInfected(edges):\n",
    "    edges = list(edges)\n",
    "    nodes = []\n",
    "    for i in edges:\n",
    "        nodes.append(i[1])\n",
    "    return nodes"
   ]
  },
  {
   "cell_type": "code",
   "execution_count": 209,
   "metadata": {},
   "outputs": [],
   "source": [
    "def BFS(Gr,zero,p): \n",
    "  \n",
    "        # Mark all the vertices as not visited \n",
    "        visited = [False] * Gr.number_of_nodes()\n",
    "        infected = [False] * Gr.number_of_nodes()\n",
    "        k=1\n",
    "  \n",
    "        # Create a queue for BFS \n",
    "        queue = [] \n",
    "  \n",
    "        # Mark the source node as  \n",
    "        # visited and enqueue it \n",
    "        queue.append(zero) \n",
    "        # visited[zero] = True\n",
    "        infected[zero] = True\n",
    "        ret = []\n",
    "  \n",
    "        while queue: \n",
    "            \n",
    "            # Dequeue a vertex from  \n",
    "            # queue and print it \n",
    "            s = queue.pop(0) \n",
    "            ret.append(s)\n",
    "  \n",
    "            # Get all adjacent vertices of the \n",
    "            # dequeued vertex s. If a adjacent \n",
    "            # has not been visited, then mark it \n",
    "            # visited and enqueue it \n",
    "            for i in Gr.neighbors(s): \n",
    "                if infected[i]==False:\n",
    "                    if rand.uniform(0,10) < p*10:\n",
    "                        infected[i] = True\n",
    "                        queue.append(i) \n",
    "                        k+=1\n",
    "                                    \n",
    "        #for i in range(0,len(infected)):\n",
    "          #  if infected[i]==True:\n",
    "          #      print(i)\n",
    "        print(\"inf\",k)       \n",
    "        return ret"
   ]
  },
  {
   "cell_type": "code",
   "execution_count": null,
   "metadata": {},
   "outputs": [],
   "source": []
  },
  {
   "cell_type": "code",
   "execution_count": 298,
   "metadata": {},
   "outputs": [],
   "source": [
    "def cleanGraph(infile):\n",
    "    # takes gexf file\n",
    "    # output: better indexed network, dict of node labels to easier indices\n",
    "    Gr = nx.read_gexf(infile)\n",
    "    inds = {}\n",
    "    for i in list(Gr.nodes):\n",
    "        inds[i] = Gr.nodes[i]\n",
    "    Gr = nx.convert_node_labels_to_integers(Gr)\n",
    "    return Gr, inds"
   ]
  }
 ],
 "metadata": {
  "kernelspec": {
   "display_name": "Python 3",
   "language": "python",
   "name": "python3"
  },
  "language_info": {
   "codemirror_mode": {
    "name": "ipython",
    "version": 3
   },
   "file_extension": ".py",
   "mimetype": "text/x-python",
   "name": "python",
   "nbconvert_exporter": "python",
   "pygments_lexer": "ipython3",
   "version": "3.6.4"
  }
 },
 "nbformat": 4,
 "nbformat_minor": 2
}
